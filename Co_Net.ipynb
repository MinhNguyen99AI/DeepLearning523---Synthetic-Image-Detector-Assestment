{
 "cells": [
  {
   "cell_type": "markdown",
   "metadata": {},
   "source": [
    "# [Original Paper](https://arxiv.org/pdf/1903.06836.pdf)"
   ]
  },
  {
   "cell_type": "markdown",
   "metadata": {},
   "source": [
    "# Importing Libraries"
   ]
  },
  {
   "cell_type": "code",
   "execution_count": 1,
   "metadata": {},
   "outputs": [],
   "source": [
    "import pandas as pd\n",
    "import numpy as np\n",
    "import matplotlib.pyplot as plt\n",
    "import time\n",
    "import random\n",
    "from sklearn.model_selection import train_test_split\n",
    "from sklearn.metrics import classification_report"
   ]
  },
  {
   "cell_type": "code",
   "execution_count": 2,
   "metadata": {},
   "outputs": [],
   "source": [
    "import torch\n",
    "import torchvision\n",
    "import cv2\n",
    "from skimage.feature import greycomatrix"
   ]
  },
  {
   "cell_type": "code",
   "execution_count": 3,
   "metadata": {},
   "outputs": [],
   "source": [
    "from torchvision.models import resnet50 \n",
    "from torch.utils.data.sampler import SubsetRandomSampler"
   ]
  },
  {
   "cell_type": "code",
   "execution_count": 4,
   "metadata": {},
   "outputs": [
    {
     "data": {
      "text/plain": [
       "True"
      ]
     },
     "execution_count": 4,
     "metadata": {},
     "output_type": "execute_result"
    }
   ],
   "source": [
    "torch.cuda.is_available()"
   ]
  },
  {
   "cell_type": "code",
   "execution_count": 5,
   "metadata": {},
   "outputs": [
    {
     "data": {
      "text/plain": [
       "device(type='cuda')"
      ]
     },
     "execution_count": 5,
     "metadata": {},
     "output_type": "execute_result"
    }
   ],
   "source": [
    "device = torch.device(\"cuda\" if torch.cuda.is_available() else \"cpu\")\n",
    "device "
   ]
  },
  {
   "cell_type": "code",
   "execution_count": 6,
   "metadata": {},
   "outputs": [],
   "source": [
    "import os\n",
    "from tqdm import tqdm\n",
    "from torchvision import datasets, models, transforms\n",
    "from torch.utils.data import TensorDataset"
   ]
  },
  {
   "cell_type": "code",
   "execution_count": 7,
   "metadata": {},
   "outputs": [],
   "source": [
    "torch.cuda.empty_cache()"
   ]
  },
  {
   "cell_type": "code",
   "execution_count": 8,
   "metadata": {},
   "outputs": [
    {
     "data": {
      "text/plain": [
       "'Tesla V100-SXM2-16GB'"
      ]
     },
     "execution_count": 8,
     "metadata": {},
     "output_type": "execute_result"
    }
   ],
   "source": [
    "torch.cuda.get_device_name()"
   ]
  },
  {
   "cell_type": "markdown",
   "metadata": {},
   "source": [
    "# Transform"
   ]
  },
  {
   "cell_type": "code",
   "execution_count": 9,
   "metadata": {},
   "outputs": [],
   "source": [
    "def CO_Matrix(image):\n",
    "    \n",
    "    distance_offset = [1]\n",
    "    angle_offset = [0] \n",
    "    \n",
    "    Co_Occurence_Matrix = np.zeros((3,256,256)) \n",
    "\n",
    "    image = np.array(image)\n",
    "    \n",
    "    for z in range(Co_Occurence_Matrix.shape[0]):\n",
    "        co_all = greycomatrix(image[:,:,z], distance_offset, angle_offset, levels=256) \n",
    "        \n",
    "        \n",
    "        Co_Occurence_Matrix[z,:,:] = co_all[:,:,0,0] \n",
    "    \n",
    "    \n",
    "    matrix = torch.from_numpy(Co_Occurence_Matrix) \n",
    "    \n",
    "    return matrix "
   ]
  },
  {
   "cell_type": "markdown",
   "metadata": {},
   "source": [
    "# Dataset, Dataloader"
   ]
  },
  {
   "cell_type": "code",
   "execution_count": 10,
   "metadata": {},
   "outputs": [],
   "source": [
    "valid_size = .005\n",
    "batch_size = 64 \n",
    "num_workers = 2\n",
    "classes = [\"Real\", \"Fake\"]"
   ]
  },
  {
   "cell_type": "code",
   "execution_count": 11,
   "metadata": {},
   "outputs": [
    {
     "name": "stdout",
     "output_type": "stream",
     "text": [
      "['diningtable', 'car', 'sofa', 'boat', 'motorbike', 'airplane', 'horse', 'chair', 'tvmonitor', 'bottle', 'cat', 'train', 'person', 'pottedplant', 'bicycle', 'dog', 'sheep', 'bird', 'bus', 'cow']\n",
      "Loading Training Data...\n"
     ]
    },
    {
     "name": "stderr",
     "output_type": "stream",
     "text": [
      "100%|██████████| 20/20 [08:53<00:00, 26.69s/it]"
     ]
    },
    {
     "name": "stdout",
     "output_type": "stream",
     "text": [
      "Load Time- 533.8733 secs\n",
      "No of images in train dataset= 720119\n"
     ]
    },
    {
     "name": "stderr",
     "output_type": "stream",
     "text": [
      "\n"
     ]
    }
   ],
   "source": [
    "categories = os.listdir(\"./progan_train\")\n",
    "print(categories)\n",
    "\n",
    "start_time_train = time.time()\n",
    "\n",
    "train_datasets = []\n",
    "print(\"Loading Training Data...\", flush=True)\n",
    "for category in tqdm(categories):\n",
    "    train_datasets.append(datasets.ImageFolder(\"./progan_train/\" + category, transform=CO_Matrix))\n",
    "    \n",
    "train_dataset = torch.utils.data.ConcatDataset(train_datasets)\n",
    "\n",
    "print(\"Load Time-\",round(time.time()-start_time_train,4),\"secs\")\n",
    "print(\"No of images in train dataset=\",len(train_dataset))"
   ]
  },
  {
   "cell_type": "code",
   "execution_count": 12,
   "metadata": {},
   "outputs": [],
   "source": [
    "num_train = len(train_dataset)\n",
    "indices = list(range(num_train))\n",
    "np.random.shuffle(indices)\n",
    "split = int(np.floor(valid_size * num_train))\n",
    "train_idx, valid_idx = indices[split:], indices[:split]\n",
    "\n",
    "train_sampler = SubsetRandomSampler(train_idx)\n",
    "valid_sampler = SubsetRandomSampler(valid_idx)"
   ]
  },
  {
   "cell_type": "code",
   "execution_count": 13,
   "metadata": {},
   "outputs": [
    {
     "name": "stdout",
     "output_type": "stream",
     "text": [
      "Training Dataloader Length= 11196\n",
      "Validation Dataloader Length= 57\n"
     ]
    }
   ],
   "source": [
    "train_loader = torch.utils.data.DataLoader(train_dataset, batch_size=batch_size, sampler=train_sampler,\n",
    "                                               num_workers=num_workers)\n",
    "\n",
    "valid_loader = torch.utils.data.DataLoader(train_dataset, batch_size=batch_size, \n",
    "                                               sampler=valid_sampler, num_workers=num_workers)\n",
    "\n",
    "class_names = train_datasets[0].classes\n",
    "\n",
    "print(\"Training Dataloader Length=\",len(train_loader))\n",
    "print(\"Validation Dataloader Length=\",len(valid_loader))"
   ]
  },
  {
   "cell_type": "markdown",
   "metadata": {},
   "source": [
    "# Training, Validation, Testing Loop"
   ]
  },
  {
   "cell_type": "code",
   "execution_count": 14,
   "metadata": {},
   "outputs": [],
   "source": [
    "def validation_loop(device, model, dataloader): \n",
    "    \n",
    "    model=model.eval()\n",
    "    \n",
    "    accuracy = 0\n",
    "    no_of_batches = len(dataloader)\n",
    "    \n",
    "    with torch.no_grad():\n",
    "        for d in dataloader:\n",
    "            images, labels = d\n",
    "\n",
    "            images = images.to(device)\n",
    "            labels = labels.to(device)\n",
    "\n",
    "            outputs = model(images)\n",
    "            outputs = outputs[:,0]\n",
    "\n",
    "            correct = ((outputs>=0.5).float() == labels.float())\n",
    "            acc=torch.sum(correct)/float(len(labels))\n",
    "            accuracy+=acc.item()\n",
    "                \n",
    "    return round(100*accuracy/no_of_batches,4)"
   ]
  },
  {
   "cell_type": "code",
   "execution_count": 15,
   "metadata": {},
   "outputs": [],
   "source": [
    "def train_loop(device, model, dataloader, val_loader, optimizer, criterion):\n",
    "    \n",
    "    start = time.time()\n",
    "    \n",
    "    accuracy = 0\n",
    "    no_of_batches = len(dataloader)\n",
    "    losses = 0\n",
    "    model = model.train()\n",
    "    \n",
    "    i = 0\n",
    "    \n",
    "    train_acc_list=[]\n",
    "    train_loss_list=[]\n",
    "    val_acc_list=[]\n",
    "    \n",
    "    for d in dataloader:\n",
    "        images, labels = d\n",
    "                \n",
    "        images = images.to(device)\n",
    "        labels = labels.to(device)\n",
    "\n",
    "        optimizer.zero_grad()\n",
    "        \n",
    "        outputs = model(images)\n",
    "        outputs = outputs[:,0]\n",
    "        \n",
    "        loss = criterion(outputs.float(),labels.float())\n",
    "        \n",
    "        loss.backward()\n",
    "        optimizer.step()\n",
    "        \n",
    "        correct = ((outputs>=0.5).float() == labels.float())\n",
    "        acc=torch.sum(correct)/float(len(labels))\n",
    "                \n",
    "        accuracy+=acc.item()\n",
    "        \n",
    "        losses+=loss.item()\n",
    "        \n",
    "        i+=1\n",
    "        \n",
    "        if(i%2500==0):\n",
    "            \n",
    "            val_acc = validation_loop(device, model, val_loader)\n",
    "            train_acc = round(100*accuracy/i,4)\n",
    "            train_loss = round(losses/i,4)\n",
    "            \n",
    "            train_acc_list.append(train_acc)\n",
    "            train_loss_list.append(train_loss)\n",
    "            val_acc_list.append(val_acc)\n",
    "            \n",
    "            model = model.train()\n",
    "            \n",
    "            print(\"[\",i,\"/\",no_of_batches,\"]---Train Accuracy=\",train_acc,\"Validation Accuracy=\",val_acc,\"Train Loss=\",train_loss)\n",
    "            print(\"Time taken=\",round((time.time()-start)/60.0,4),\"min\")\n",
    "            print(\"\") \n",
    "\n",
    "    \n",
    "    train_acc=round(100*accuracy/no_of_batches,4)\n",
    "    train_loss=round(losses/no_of_batches,4)\n",
    "    val_acc = validation_loop(device, model, val_loader)\n",
    "    \n",
    "    print(\"Final train accuracy=\",train_acc,\"%\")\n",
    "    print(\"Final train loss=\",train_loss)\n",
    "    print(\"Final validation accuracy=\",val_acc,\"%\")\n",
    "    \n",
    "    print(\"Training Time taken=\",round((time.time()-start)/60.0,4),\"min\")\n",
    "    \n",
    "    train_acc_list.append(train_acc)\n",
    "    train_loss_list.append(train_loss)\n",
    "    val_acc_list.append(val_acc)\n",
    "    \n",
    "    return train_acc_list,train_loss_list,val_acc_list, train_loss, val_acc"
   ]
  },
  {
   "cell_type": "markdown",
   "metadata": {},
   "source": [
    "# Co-NET Model"
   ]
  },
  {
   "cell_type": "code",
   "execution_count": 16,
   "metadata": {},
   "outputs": [],
   "source": [
    "class Co_NET(torch.nn.Module):\n",
    "    def __init__(self):\n",
    "        super(Co_NET, self).__init__()\n",
    "        \n",
    "        self.conv1 = torch.nn.Conv2d(3, 32, (3,3))\n",
    "        self.relu1 = torch.nn.ReLU()\n",
    "        self.conv2 = torch.nn.Conv2d(32, 32, (5,5))\n",
    "        self.pool1 = torch.nn.MaxPool2d((3,3),stride=3)\n",
    "        \n",
    "        self.conv3 = torch.nn.Conv2d(32, 64, (3,3))\n",
    "        self.relu2 = torch.nn.ReLU()\n",
    "        self.conv4 = torch.nn.Conv2d(64, 64, (5,5))\n",
    "        self.pool2 = torch.nn.MaxPool2d((3,3),stride=3)\n",
    "        \n",
    "        self.conv5 = torch.nn.Conv2d(64, 128, (3,3))\n",
    "        self.relu3 = torch.nn.ReLU()\n",
    "        self.conv6 = torch.nn.Conv2d(128, 128, (5,5))\n",
    "        self.pool3 = torch.nn.MaxPool2d((3,3),stride=3)\n",
    "         \n",
    "        self.dense1 = torch.nn.Linear(128 * 6 * 6, 256)\n",
    "        self.dense2 = torch.nn.Linear(256,1)\n",
    "        self.sigmoid1 = torch.nn.Sigmoid()\n",
    "        \n",
    "\n",
    "    def forward(self, x):\n",
    "        \n",
    "        x2 = self.conv1(x)\n",
    "        x2 = self.relu1(x2)\n",
    "        x3 = self.conv2(x2)\n",
    "        x4 = self.pool1(x3)\n",
    "        \n",
    "        x5 = self.conv3(x4)\n",
    "        x5 = self.relu2(x5)\n",
    "        x6 = self.conv4(x5)\n",
    "        x7 = self.pool2(x6)\n",
    "        \n",
    "        x8 = self.conv5(x7)\n",
    "        x8 = self.relu3(x8)\n",
    "        x9 = self.conv6(x8)\n",
    "        x10 = self.pool3(x9)\n",
    "        \n",
    "        x10 = x10.view(-1, 128 * 6 * 6) \n",
    "        x11 = self.dense1(x10)\n",
    "        x12 = self.dense2(x11)\n",
    "        x13 = self.sigmoid1(x12)\n",
    "\n",
    "        return x13"
   ]
  },
  {
   "cell_type": "code",
   "execution_count": 17,
   "metadata": {},
   "outputs": [
    {
     "data": {
      "text/plain": [
       "Co_NET(\n",
       "  (conv1): Conv2d(3, 32, kernel_size=(3, 3), stride=(1, 1))\n",
       "  (relu1): ReLU()\n",
       "  (conv2): Conv2d(32, 32, kernel_size=(5, 5), stride=(1, 1))\n",
       "  (pool1): MaxPool2d(kernel_size=(3, 3), stride=3, padding=0, dilation=1, ceil_mode=False)\n",
       "  (conv3): Conv2d(32, 64, kernel_size=(3, 3), stride=(1, 1))\n",
       "  (relu2): ReLU()\n",
       "  (conv4): Conv2d(64, 64, kernel_size=(5, 5), stride=(1, 1))\n",
       "  (pool2): MaxPool2d(kernel_size=(3, 3), stride=3, padding=0, dilation=1, ceil_mode=False)\n",
       "  (conv5): Conv2d(64, 128, kernel_size=(3, 3), stride=(1, 1))\n",
       "  (relu3): ReLU()\n",
       "  (conv6): Conv2d(128, 128, kernel_size=(5, 5), stride=(1, 1))\n",
       "  (pool3): MaxPool2d(kernel_size=(3, 3), stride=3, padding=0, dilation=1, ceil_mode=False)\n",
       "  (dense1): Linear(in_features=4608, out_features=256, bias=True)\n",
       "  (dense2): Linear(in_features=256, out_features=1, bias=True)\n",
       "  (sigmoid1): Sigmoid()\n",
       ")"
      ]
     },
     "execution_count": 17,
     "metadata": {},
     "output_type": "execute_result"
    }
   ],
   "source": [
    "co_net_model_trial = Co_NET()\n",
    "co_net_model_trial = co_net_model_trial.double()\n",
    "co_net_model_trial"
   ]
  },
  {
   "cell_type": "code",
   "execution_count": 18,
   "metadata": {
    "scrolled": true
   },
   "outputs": [
    {
     "name": "stdout",
     "output_type": "stream",
     "text": [
      "torch.Size([64, 3, 256, 256])\n",
      "torch.Size([3, 256, 256])\n",
      "\n",
      "tensor([0.5337, 0.5216, 0.5152, 0.5171, 0.5080, 0.5128, 0.5234, 0.5133, 0.5093,\n",
      "        0.5151, 0.5151, 0.5241, 0.5232, 0.6024, 0.5167, 0.5152, 0.5099, 0.5397,\n",
      "        0.5365, 0.5333, 0.5149, 0.5338, 0.5251, 0.5593, 0.5354, 0.5211, 0.5148,\n",
      "        0.5166, 0.5136, 0.5486, 0.5170, 0.5175, 0.5146, 0.6169, 0.5377, 0.5118,\n",
      "        0.5179, 0.5091, 0.5096, 0.5520, 0.5138, 0.5113, 0.5329, 0.5189, 0.5094,\n",
      "        0.5175, 0.5204, 0.5106, 0.5822, 0.5188, 0.5287, 0.5077, 0.5109, 0.5297,\n",
      "        0.5272, 0.5216, 0.5332, 0.5146, 0.5119, 0.5309, 0.5145, 0.5153, 0.5473,\n",
      "        0.5525], dtype=torch.float64, grad_fn=<SelectBackward>)\n",
      "tensor([1, 0, 0, 0, 0, 0, 1, 1, 1, 0, 1, 0, 0, 0, 1, 1, 1, 0, 1, 0, 0, 1, 1, 0,\n",
      "        0, 0, 0, 1, 0, 1, 1, 0, 1, 0, 0, 0, 0, 1, 1, 0, 1, 0, 1, 1, 0, 0, 1, 0,\n",
      "        1, 0, 1, 1, 1, 1, 0, 1, 1, 1, 0, 0, 1, 1, 0, 1])\n",
      "tensor(0.5000)\n"
     ]
    }
   ],
   "source": [
    "inputs, classes = next(iter(train_loader))\n",
    "\n",
    "print(inputs.shape)\n",
    "print(inputs[0].shape)\n",
    "print(\"\")\n",
    "\n",
    "outputs = co_net_model_trial(inputs)\n",
    "outputs = outputs[:,0]\n",
    "print(outputs)\n",
    "print(classes)\n",
    "\n",
    "correct = ((outputs>=0.5).float() == classes.float())\n",
    "acc=torch.sum(correct)/float(len(classes))\n",
    "print(acc)"
   ]
  },
  {
   "cell_type": "code",
   "execution_count": 19,
   "metadata": {},
   "outputs": [
    {
     "data": {
      "text/plain": [
       "Co_NET(\n",
       "  (conv1): Conv2d(3, 32, kernel_size=(3, 3), stride=(1, 1))\n",
       "  (relu1): ReLU()\n",
       "  (conv2): Conv2d(32, 32, kernel_size=(5, 5), stride=(1, 1))\n",
       "  (pool1): MaxPool2d(kernel_size=(3, 3), stride=3, padding=0, dilation=1, ceil_mode=False)\n",
       "  (conv3): Conv2d(32, 64, kernel_size=(3, 3), stride=(1, 1))\n",
       "  (relu2): ReLU()\n",
       "  (conv4): Conv2d(64, 64, kernel_size=(5, 5), stride=(1, 1))\n",
       "  (pool2): MaxPool2d(kernel_size=(3, 3), stride=3, padding=0, dilation=1, ceil_mode=False)\n",
       "  (conv5): Conv2d(64, 128, kernel_size=(3, 3), stride=(1, 1))\n",
       "  (relu3): ReLU()\n",
       "  (conv6): Conv2d(128, 128, kernel_size=(5, 5), stride=(1, 1))\n",
       "  (pool3): MaxPool2d(kernel_size=(3, 3), stride=3, padding=0, dilation=1, ceil_mode=False)\n",
       "  (dense1): Linear(in_features=4608, out_features=256, bias=True)\n",
       "  (dense2): Linear(in_features=256, out_features=1, bias=True)\n",
       "  (sigmoid1): Sigmoid()\n",
       ")"
      ]
     },
     "execution_count": 19,
     "metadata": {},
     "output_type": "execute_result"
    }
   ],
   "source": [
    "co_net_model = Co_NET()\n",
    "co_net_model = co_net_model.double()\n",
    "co_net_model"
   ]
  },
  {
   "cell_type": "code",
   "execution_count": 20,
   "metadata": {},
   "outputs": [],
   "source": [
    "learning_rate = 1e-6 \n",
    "optimizer = torch.optim.Adam(co_net_model.parameters(), lr=learning_rate, betas=(0.9, 0.999))\n",
    "criterion = torch.nn.BCELoss().to(device)\n",
    "co_net_model = co_net_model.to(device)"
   ]
  },
  {
   "cell_type": "markdown",
   "metadata": {},
   "source": [
    "# Training the model"
   ]
  },
  {
   "cell_type": "code",
   "execution_count": 21,
   "metadata": {
    "scrolled": false
   },
   "outputs": [
    {
     "name": "stdout",
     "output_type": "stream",
     "text": [
      "================================================Epoch  1 ==================================================\n",
      "[ 2500 / 11196 ]---Train Accuracy= 57.885 Validation Accuracy= 62.034 Train Loss= 0.6787\n",
      "Time taken= 40.7891 min\n",
      "\n",
      "[ 5000 / 11196 ]---Train Accuracy= 62.2809 Validation Accuracy= 73.1908 Train Loss= 0.6544\n",
      "Time taken= 79.6616 min\n",
      "\n",
      "[ 7500 / 11196 ]---Train Accuracy= 67.4608 Validation Accuracy= 82.5384 Train Loss= 0.608\n",
      "Time taken= 117.6692 min\n",
      "\n",
      "[ 10000 / 11196 ]---Train Accuracy= 71.6513 Validation Accuracy= 85.6634 Train Loss= 0.5572\n",
      "Time taken= 155.6772 min\n",
      "\n",
      "Final train accuracy= 73.2101 %\n",
      "Final train loss= 0.5357\n",
      "Final validation accuracy= 86.5132 %\n",
      "Training Time taken= 173.7703 min\n",
      "\n",
      "\n",
      "================================================Epoch  2 ==================================================\n",
      "[ 2500 / 11196 ]---Train Accuracy= 87.3625 Validation Accuracy= 88.1579 Train Loss= 0.3248\n",
      "Time taken= 31.943 min\n",
      "\n",
      "[ 5000 / 11196 ]---Train Accuracy= 88.3137 Validation Accuracy= 90.2138 Train Loss= 0.3054\n",
      "Time taken= 63.9681 min\n",
      "\n",
      "[ 7500 / 11196 ]---Train Accuracy= 89.0071 Validation Accuracy= 91.0362 Train Loss= 0.29\n",
      "Time taken= 95.885 min\n",
      "\n",
      "[ 10000 / 11196 ]---Train Accuracy= 89.633 Validation Accuracy= 92.2971 Train Loss= 0.276\n",
      "Time taken= 127.6537 min\n",
      "\n",
      "Final train accuracy= 89.9067 %\n",
      "Final train loss= 0.2698\n",
      "Final validation accuracy= 92.4342 %\n",
      "Training Time taken= 143.0162 min\n",
      "\n",
      "\n",
      "================================================Epoch  3 ==================================================\n",
      "[ 2500 / 11196 ]---Train Accuracy= 90.3431 Validation Accuracy= 52.7961 Train Loss= 0.3394\n",
      "Time taken= 31.8428 min\n",
      "\n",
      "[ 5000 / 11196 ]---Train Accuracy= 88.2662 Validation Accuracy= 92.0779 Train Loss= 0.3674\n",
      "Time taken= 63.585 min\n",
      "\n",
      "[ 7500 / 11196 ]---Train Accuracy= 88.9038 Validation Accuracy= 91.9408 Train Loss= 0.3362\n",
      "Time taken= 95.3123 min\n",
      "\n",
      "[ 10000 / 11196 ]---Train Accuracy= 89.4228 Validation Accuracy= 50.1919 Train Loss= 0.3303\n",
      "Time taken= 126.9337 min\n",
      "\n",
      "Final train accuracy= 88.0068 %\n",
      "Final train loss= 0.3762\n",
      "Final validation accuracy= 91.1184 %\n",
      "Training Time taken= 142.2234 min\n",
      "\n",
      "\n",
      "================================================Epoch  4 ==================================================\n",
      "[ 2500 / 11196 ]---Train Accuracy= 91.6044 Validation Accuracy= 92.3246 Train Loss= 0.2195\n",
      "Time taken= 32.047 min\n",
      "\n",
      "[ 5000 / 11196 ]---Train Accuracy= 92.2681 Validation Accuracy= 93.1469 Train Loss= 0.2112\n",
      "Time taken= 64.023 min\n",
      "\n",
      "[ 7500 / 11196 ]---Train Accuracy= 92.5746 Validation Accuracy= 93.4211 Train Loss= 0.2071\n",
      "Time taken= 95.8472 min\n",
      "\n",
      "[ 10000 / 11196 ]---Train Accuracy= 92.7428 Validation Accuracy= 93.3936 Train Loss= 0.2039\n",
      "Time taken= 127.6769 min\n",
      "\n",
      "Final train accuracy= 92.7975 %\n",
      "Final train loss= 0.2024\n",
      "Final validation accuracy= 93.6129 %\n",
      "Training Time taken= 143.0194 min\n",
      "\n",
      "\n",
      "================================================Epoch  5 ==================================================\n",
      "[ 2500 / 11196 ]---Train Accuracy= 93.5581 Validation Accuracy= 93.9145 Train Loss= 0.1828\n",
      "Time taken= 32.0591 min\n",
      "\n",
      "[ 5000 / 11196 ]---Train Accuracy= 93.4678 Validation Accuracy= 49.7533 Train Loss= 0.1915\n",
      "Time taken= 64.1533 min\n",
      "\n",
      "[ 7500 / 11196 ]---Train Accuracy= 90.3319 Validation Accuracy= 93.284 Train Loss= 0.3296\n",
      "Time taken= 96.2875 min\n",
      "\n",
      "[ 10000 / 11196 ]---Train Accuracy= 88.9145 Validation Accuracy= 90.9265 Train Loss= 0.3924\n",
      "Time taken= 128.251 min\n",
      "\n",
      "Final train accuracy= 89.2611 %\n",
      "Final train loss= 0.372\n",
      "Final validation accuracy= 93.7226 %\n",
      "Training Time taken= 143.4349 min\n",
      "\n",
      "\n",
      "================================================End==================================================\n",
      "Total training time after 5 epochs= 12.4244 hours\n"
     ]
    }
   ],
   "source": [
    "total_start = time.time()\n",
    "epochs = 5 \n",
    "\n",
    "train_loss_list_epochs = []\n",
    "val_acc_list_epochs = []\n",
    "\n",
    "val_acc_list = []\n",
    "train_loss_list = []\n",
    "train_acc_list = []\n",
    "\n",
    "for i in range(epochs):\n",
    "    print(\"================================================Epoch \",i+1,\"==================================================\")\n",
    "    \n",
    "    a,b,c,train_loss,val_acc = train_loop(device, co_net_model, train_loader, valid_loader, optimizer, criterion)\n",
    "    \n",
    "    train_loss_list_epochs.append(train_loss)\n",
    "    val_acc_list_epochs.append(val_acc)\n",
    "\n",
    "    val_acc_list+=c\n",
    "    train_loss_list+=b\n",
    "    train_acc_list+=a\n",
    "    \n",
    "    print(\"\\n\")\n",
    "        \n",
    "print(\"================================================End==================================================\")\n",
    "print(\"Total training time after\",epochs,\"epochs=\",round(((time.time()-total_start)/3600.0),4),\"hours\")"
   ]
  },
  {
   "cell_type": "code",
   "execution_count": 22,
   "metadata": {},
   "outputs": [],
   "source": [
    "torch.save(co_net_model, \"./Co_Net/co_net_model_trained.pt\")"
   ]
  },
  {
   "cell_type": "code",
   "execution_count": 23,
   "metadata": {},
   "outputs": [
    {
     "data": {
      "image/png": "[encoded data removed]",
      "text/plain": [
       "<Figure size 432x288 with 1 Axes>"
      ]
     },
     "metadata": {
      "needs_background": "light"
     },
     "output_type": "display_data"
    }
   ],
   "source": [
    "plt.title(\"Training Loss per Epoch\")\n",
    "plt.xlabel('Epochs')\n",
    "plt.ylabel('Training Loss') \n",
    "plt.plot(train_loss_list_epochs)\n",
    "plt.show()"
   ]
  },
  {
   "cell_type": "code",
   "execution_count": 24,
   "metadata": {},
   "outputs": [
    {
     "data": {
      "image/png": "[encoded data removed]",
      "text/plain": [
       "<Figure size 432x288 with 1 Axes>"
      ]
     },
     "metadata": {
      "needs_background": "light"
     },
     "output_type": "display_data"
    }
   ],
   "source": [
    "plt.title(\"Validation Accuracies per Epoch\")\n",
    "plt.xlabel('Epochs')\n",
    "plt.ylabel('Validation Accuracy')\n",
    "plt.plot(val_acc_list_epochs)\n",
    "plt.show()"
   ]
  },
  {
   "cell_type": "code",
   "execution_count": 25,
   "metadata": {},
   "outputs": [
    {
     "data": {
      "image/png": "[encoded data removed]",
      "text/plain": [
       "<Figure size 432x288 with 1 Axes>"
      ]
     },
     "metadata": {
      "needs_background": "light"
     },
     "output_type": "display_data"
    }
   ],
   "source": [
    "plt.title(\"Validation Accuracy per 3000 batches\")\n",
    "plt.xlabel('Multiple of 3000 batches')\n",
    "plt.ylabel('Validation Accuracy')\n",
    "plt.plot(val_acc_list)\n",
    "plt.show()"
   ]
  },
  {
   "cell_type": "code",
   "execution_count": 26,
   "metadata": {},
   "outputs": [
    {
     "data": {
      "image/png": "[encoded data removed]",
      "text/plain": [
       "<Figure size 432x288 with 1 Axes>"
      ]
     },
     "metadata": {
      "needs_background": "light"
     },
     "output_type": "display_data"
    }
   ],
   "source": [
    "plt.title(\"Training Accuracy per 3000 batches\")\n",
    "plt.xlabel('Multiple of 3000 batches')\n",
    "plt.ylabel('Training Accuracy')\n",
    "plt.plot(train_acc_list)\n",
    "plt.show()"
   ]
  },
  {
   "cell_type": "code",
   "execution_count": 27,
   "metadata": {},
   "outputs": [
    {
     "data": {
      "image/png": "[encoded data removed]",
      "text/plain": [
       "<Figure size 432x288 with 1 Axes>"
      ]
     },
     "metadata": {
      "needs_background": "light"
     },
     "output_type": "display_data"
    }
   ],
   "source": [
    "plt.title(\"Training Loss per 3000 batches\")\n",
    "plt.xlabel('Multiple of 3000 batches')\n",
    "plt.ylabel('Training Loss')\n",
    "plt.plot(train_loss_list)\n",
    "plt.show()"
   ]
  },
  {
   "cell_type": "markdown",
   "metadata": {},
   "source": [
    "# Testing"
   ]
  },
  {
   "cell_type": "code",
   "execution_count": 28,
   "metadata": {},
   "outputs": [],
   "source": [
    "def report(preds, labels):\n",
    "    \n",
    "    \n",
    "    cr = classification_report(y_true=labels, y_pred=preds, labels=[0, 1], output_dict=True)\n",
    "    \n",
    "    \n",
    "    acc = round(cr['accuracy'],4)\n",
    "    prec_0 = round(cr['0']['precision'],4)\n",
    "    rec_0 = round(cr['0']['recall'],4)\n",
    "    f1_0 = round(cr['0']['f1-score'],4)\n",
    "    prec_1 = round(cr['1']['precision'],4)\n",
    "    rec_1 = round(cr['1']['recall'],4)\n",
    "    f1_1 = round(cr['1']['f1-score'],4)\n",
    "    \n",
    "    return acc, rec_0, rec_1, prec_0, prec_1, f1_0, f1_1"
   ]
  },
  {
   "cell_type": "code",
   "execution_count": 29,
   "metadata": {},
   "outputs": [],
   "source": [
    "def test_loop(device, model, dataloader): \n",
    "    \n",
    "    model=model.eval()\n",
    "    \n",
    "    predictions_list = []\n",
    "    labels_list = []\n",
    "    \n",
    "    with torch.no_grad():\n",
    "        for d in dataloader:\n",
    "            images, labels = d\n",
    "\n",
    "            images = images.to(device)\n",
    "            labels = labels.to(device)\n",
    "\n",
    "            outputs = model(images)\n",
    "            outputs = outputs[:,0]\n",
    "            \n",
    "            preds = (outputs>=0.5).float()\n",
    "            \n",
    "            predictions_list+=preds.tolist()\n",
    "            labels_list+=labels.tolist()\n",
    "            \n",
    "                \n",
    "    return predictions_list, labels_list "
   ]
  },
  {
   "cell_type": "code",
   "execution_count": 30,
   "metadata": {
    "scrolled": false
   },
   "outputs": [
    {
     "name": "stdout",
     "output_type": "stream",
     "text": [
      "\n",
      "-------- imle  DATASET------\n",
      "\n",
      "Overall Accuracy- 0.6377\n",
      "------(Real)------\n",
      "Precision- 0.99\n",
      "Recall- 0.2783\n",
      "F1 Score- 0.4344\n",
      "------(Fake)------\n",
      "Precision- 0.5801\n",
      "Recall- 0.9972\n",
      "F1 Score- 0.7335\n",
      "\n",
      "-------- stylegan  DATASET------\n",
      "\n",
      "Overall Accuracy- 0.9391\n",
      "------(Real)------\n",
      "Precision- 0.9845\n",
      "Recall- 0.8922\n",
      "F1 Score- 0.9361\n",
      "------(Fake)------\n",
      "Precision- 0.9014\n",
      "Recall- 0.986\n",
      "F1 Score- 0.9418\n",
      "\n",
      "-------- san  DATASET------\n",
      "\n",
      "Overall Accuracy- 0.4886\n",
      "------(Real)------\n",
      "Precision- 0.4545\n",
      "Recall- 0.1142\n",
      "F1 Score- 0.1825\n",
      "------(Fake)------\n",
      "Precision- 0.4935\n",
      "Recall- 0.863\n",
      "F1 Score- 0.6279\n",
      "\n",
      "-------- progan  DATASET------\n",
      "\n",
      "Overall Accuracy- 0.9367\n",
      "------(Real)------\n",
      "Precision- 0.9463\n",
      "Recall- 0.926\n",
      "F1 Score- 0.9361\n",
      "------(Fake)------\n",
      "Precision- 0.9276\n",
      "Recall- 0.9475\n",
      "F1 Score- 0.9374\n",
      "\n",
      "-------- cyclegan  DATASET------\n",
      "\n",
      "Overall Accuracy- 0.648\n",
      "------(Real)------\n",
      "Precision- 0.794\n",
      "Recall- 0.3997\n",
      "F1 Score- 0.5317\n",
      "------(Fake)------\n",
      "Precision- 0.5989\n",
      "Recall- 0.8963\n",
      "F1 Score- 0.718\n",
      "\n",
      "-------- stylegan2  DATASET------\n",
      "\n",
      "Overall Accuracy- 0.9246\n",
      "------(Real)------\n",
      "Precision- 0.9643\n",
      "Recall- 0.8819\n",
      "F1 Score- 0.9213\n",
      "------(Fake)------\n",
      "Precision- 0.8912\n",
      "Recall- 0.9673\n",
      "F1 Score- 0.9277\n",
      "\n",
      "-------- deepfake  DATASET------\n",
      "\n",
      "Overall Accuracy- 0.5563\n",
      "------(Real)------\n",
      "Precision- 0.7464\n",
      "Recall- 0.1729\n",
      "F1 Score- 0.2807\n",
      "------(Fake)------\n",
      "Precision- 0.5314\n",
      "Recall- 0.9411\n",
      "F1 Score- 0.6792\n",
      "\n",
      "-------- gaugan  DATASET------\n",
      "\n",
      "Overall Accuracy- 0.5162\n",
      "------(Real)------\n",
      "Precision- 0.6824\n",
      "Recall- 0.0606\n",
      "F1 Score- 0.1113\n",
      "------(Fake)------\n",
      "Precision- 0.5085\n",
      "Recall- 0.9718\n",
      "F1 Score- 0.6676\n",
      "\n",
      "-------- whichfaceisreal  DATASET------\n",
      "\n",
      "Overall Accuracy- 0.528\n",
      "------(Real)------\n",
      "Precision- 1.0\n",
      "Recall- 0.056\n",
      "F1 Score- 0.1061\n",
      "------(Fake)------\n",
      "Precision- 0.5144\n",
      "Recall- 1.0\n",
      "F1 Score- 0.6793\n",
      "\n",
      "-------- seeingdark  DATASET------\n",
      "\n",
      "Overall Accuracy- 0.4889\n",
      "------(Real)------\n",
      "Precision- 0.25\n",
      "Recall- 0.0111\n",
      "F1 Score- 0.0213\n",
      "------(Fake)------\n",
      "Precision- 0.4943\n",
      "Recall- 0.9667\n",
      "F1 Score- 0.6541\n",
      "\n",
      "-------- crn  DATASET------\n",
      "\n",
      "Overall Accuracy- 0.6384\n",
      "------(Real)------\n",
      "Precision- 0.995\n",
      "Recall- 0.2783\n",
      "F1 Score- 0.4349\n",
      "------(Fake)------\n",
      "Precision- 0.5805\n",
      "Recall- 0.9986\n",
      "F1 Score- 0.7342\n",
      "\n",
      "-------- stargan  DATASET------\n",
      "\n",
      "Overall Accuracy- 0.6381\n",
      "------(Real)------\n",
      "Precision- 1.0\n",
      "Recall- 0.2761\n",
      "F1 Score- 0.4328\n",
      "------(Fake)------\n",
      "Precision- 0.5801\n",
      "Recall- 1.0\n",
      "F1 Score- 0.7343\n",
      "\n",
      "-------- biggan  DATASET------\n",
      "\n",
      "Overall Accuracy- 0.539\n",
      "------(Real)------\n",
      "Precision- 0.6931\n",
      "Recall- 0.14\n",
      "F1 Score- 0.2329\n",
      "------(Fake)------\n",
      "Precision- 0.5217\n",
      "Recall- 0.938\n",
      "F1 Score- 0.6705\n",
      " \n",
      "Testing Time= 19.9626  minutes\n"
     ]
    }
   ],
   "source": [
    "test_start = time.time()\n",
    "gans = os.listdir(\"./CNN_synth_testset\")\n",
    "\n",
    "test_accs = []\n",
    "test_recall_1 = []\n",
    "test_recall_0 = []\n",
    "test_precision_1 = []\n",
    "test_precision_0 = []\n",
    "test_f1_1 = []\n",
    "test_f1_0 = []\n",
    "\n",
    "for gan in gans:\n",
    "    subdirs = os.listdir(\"./CNN_synth_testset/\" + gan)\n",
    "    if len(subdirs) == 2:\n",
    "        gan_dataset = datasets.ImageFolder(\"./CNN_synth_testset/\" + gan, transform=CO_Matrix) \n",
    "    else:\n",
    "        gan_datasets = [datasets.ImageFolder(\"./CNN_synth_testset/\" + gan + \"/\" + cat, transform=CO_Matrix) for cat in subdirs]\n",
    "        gan_dataset = torch.utils.data.ConcatDataset(gan_datasets)\n",
    "        \n",
    "    gan_loader = torch.utils.data.DataLoader(gan_dataset, batch_size=batch_size, num_workers=num_workers, shuffle=True)\n",
    "\n",
    "    preds, labels = test_loop(device, co_net_model, gan_loader)\n",
    "        \n",
    "    acc, rec_0, rec_1, prec_0, prec_1, f1_0, f1_1 = report(preds, labels)\n",
    "    \n",
    "    print(\"\\n--------\",gan,\" DATASET------\\n\")\n",
    "    \n",
    "    print(\"Overall Accuracy-\",acc)\n",
    "    print(\"------(Real)------\")\n",
    "    print(\"Precision-\",prec_0)\n",
    "    print(\"Recall-\",rec_0)\n",
    "    print(\"F1 Score-\",f1_0)\n",
    "    print(\"------(Fake)------\")\n",
    "    print(\"Precision-\",prec_1)\n",
    "    print(\"Recall-\",rec_1)\n",
    "    print(\"F1 Score-\",f1_1)\n",
    "    \n",
    "    test_accs.append(acc) \n",
    "\n",
    "print(\" \")\n",
    "print(\"Testing Time=\",round((time.time()-test_start)/60.0,4),\" minutes\")"
   ]
  },
  {
   "cell_type": "code",
   "execution_count": 31,
   "metadata": {},
   "outputs": [
    {
     "data": {
      "text/plain": [
       "<BarContainer object of 13 artists>"
      ]
     },
     "execution_count": 31,
     "metadata": {},
     "output_type": "execute_result"
    },
    {
     "data": {
      "image/png": "[encoded data removed]",
      "text/plain": [
       "<Figure size 1440x360 with 1 Axes>"
      ]
     },
     "metadata": {
      "needs_background": "light"
     },
     "output_type": "display_data"
    }
   ],
   "source": [
    "plt.figure(figsize=(20,5))\n",
    "plt.title(\"Test Accuracies\")\n",
    "plt.bar(gans, test_accs)"
   ]
  },
  {
   "cell_type": "code",
   "execution_count": null,
   "metadata": {},
   "outputs": [],
   "source": []
  }
 ],
 "metadata": {
  "kernelspec": {
   "display_name": "Python 3 (ipykernel)",
   "language": "python",
   "name": "python3"
  },
  "language_info": {
   "codemirror_mode": {
    "name": "ipython",
    "version": 3
   },
   "file_extension": ".py",
   "mimetype": "text/x-python",
   "name": "python",
   "nbconvert_exporter": "python",
   "pygments_lexer": "ipython3",
   "version": "3.8.8"
  }
 },
 "nbformat": 4,
 "nbformat_minor": 4
}
